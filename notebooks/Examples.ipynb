{
 "cells": [
  {
   "cell_type": "markdown",
   "metadata": {},
   "source": [
    "## Normalization on Yaml Files\n",
    "\n",
    "Following is an implementation of normalization on `.yaml` files."
   ]
  },
  {
   "cell_type": "markdown",
   "metadata": {},
   "source": [
    "### Imports"
   ]
  },
  {
   "cell_type": "code",
   "execution_count": 1,
   "metadata": {},
   "outputs": [],
   "source": [
    "import sys\n",
    "sys.path.insert(0, '..')"
   ]
  },
  {
   "cell_type": "code",
   "execution_count": 2,
   "metadata": {},
   "outputs": [],
   "source": [
    "import os\n",
    "import logging\n",
    "\n",
    "import yaml\n",
    "import pandas as pd\n",
    "import flat_table as norm"
   ]
  },
  {
   "cell_type": "code",
   "execution_count": 3,
   "metadata": {},
   "outputs": [],
   "source": [
    "logging.basicConfig(level=logging.WARNING)"
   ]
  },
  {
   "cell_type": "markdown",
   "metadata": {},
   "source": [
    "### Data\n",
    "\n",
    "The data used here is from [unitedstates/congress-legislators](https://github.com/unitedstates/congress-legislators) repository.\n",
    "\n",
    "- legislators-historical.yml\n",
    "- executive.yml').read\n",
    "- committees-current.yml\n",
    "\n",
    "Download and put them into `data` folder."
   ]
  },
  {
   "cell_type": "code",
   "execution_count": 4,
   "metadata": {},
   "outputs": [],
   "source": [
    "def load_data(filepath):\n",
    "    with open(filepath) as f:\n",
    "        contents = yaml.load(f, Loader=yaml.SafeLoader)\n",
    "    return contents"
   ]
  },
  {
   "cell_type": "code",
   "execution_count": 5,
   "metadata": {
    "scrolled": true
   },
   "outputs": [],
   "source": [
    "source = load_data('../data/legislators-historical.yml')"
   ]
  },
  {
   "cell_type": "code",
   "execution_count": 6,
   "metadata": {},
   "outputs": [],
   "source": [
    "source2 = load_data('../data/executive.yml')\n",
    "source3 = load_data('../data/committees-current.yml')"
   ]
  },
  {
   "cell_type": "markdown",
   "metadata": {},
   "source": [
    "### Analysis"
   ]
  },
  {
   "cell_type": "markdown",
   "metadata": {},
   "source": [
    "A seri can be transformed into:\n",
    "\n",
    "    1. Expanded into rows\n",
    "    2. Expendad to columns\n",
    "    3. Kept as is\n",
    "   \n",
    "    * Each individual seri has parent df name, self name, and self.\n",
    "    * if parent and self has the same name ==> it is an object\n",
    "    * if parent and \n",
    "    "
   ]
  },
  {
   "cell_type": "markdown",
   "metadata": {},
   "source": [
    "#### Source 1"
   ]
  },
  {
   "cell_type": "code",
   "execution_count": 7,
   "metadata": {
    "scrolled": false
   },
   "outputs": [
    {
     "data": {
      "text/plain": [
       "(68, 4)"
      ]
     },
     "execution_count": 7,
     "metadata": {},
     "output_type": "execute_result"
    }
   ],
   "source": [
    "df1 = pd.DataFrame(source)\n",
    "df1_in = norm.mapper(df1)\n",
    "df1_in.shape"
   ]
  },
  {
   "cell_type": "code",
   "execution_count": 8,
   "metadata": {},
   "outputs": [
    {
     "data": {
      "text/plain": [
       "(11982, 7)"
      ]
     },
     "execution_count": 8,
     "metadata": {},
     "output_type": "execute_result"
    }
   ],
   "source": [
    "df1.shape"
   ]
  },
  {
   "cell_type": "code",
   "execution_count": 9,
   "metadata": {},
   "outputs": [
    {
     "data": {
      "text/html": [
       "<div>\n",
       "<style scoped>\n",
       "    .dataframe tbody tr th:only-of-type {\n",
       "        vertical-align: middle;\n",
       "    }\n",
       "\n",
       "    .dataframe tbody tr th {\n",
       "        vertical-align: top;\n",
       "    }\n",
       "\n",
       "    .dataframe thead th {\n",
       "        text-align: right;\n",
       "    }\n",
       "</style>\n",
       "<table border=\"1\" class=\"dataframe\">\n",
       "  <thead>\n",
       "    <tr style=\"text-align: right;\">\n",
       "      <th></th>\n",
       "      <th>parent</th>\n",
       "      <th>child</th>\n",
       "      <th>type</th>\n",
       "      <th>obj</th>\n",
       "    </tr>\n",
       "  </thead>\n",
       "  <tbody>\n",
       "    <tr>\n",
       "      <th>63</th>\n",
       "      <td>leadership_roles</td>\n",
       "      <td>leadership_roles.title</td>\n",
       "      <td>str</td>\n",
       "      <td>0        NaN\n",
       "1        NaN\n",
       "2        NaN\n",
       "3      ...</td>\n",
       "    </tr>\n",
       "    <tr>\n",
       "      <th>64</th>\n",
       "      <td>.</td>\n",
       "      <td>family</td>\n",
       "      <td>list</td>\n",
       "      <td>0                                             ...</td>\n",
       "    </tr>\n",
       "    <tr>\n",
       "      <th>65</th>\n",
       "      <td></td>\n",
       "      <td>family</td>\n",
       "      <td>dict</td>\n",
       "      <td>0                                             ...</td>\n",
       "    </tr>\n",
       "    <tr>\n",
       "      <th>66</th>\n",
       "      <td>family</td>\n",
       "      <td>family.relation</td>\n",
       "      <td>str</td>\n",
       "      <td>0        NaN\n",
       "1        NaN\n",
       "2        NaN\n",
       "3      ...</td>\n",
       "    </tr>\n",
       "    <tr>\n",
       "      <th>67</th>\n",
       "      <td>family</td>\n",
       "      <td>family.name</td>\n",
       "      <td>str</td>\n",
       "      <td>0                      NaN\n",
       "1                  ...</td>\n",
       "    </tr>\n",
       "  </tbody>\n",
       "</table>\n",
       "</div>"
      ],
      "text/plain": [
       "              parent                   child  type  \\\n",
       "63  leadership_roles  leadership_roles.title   str   \n",
       "64                 .                  family  list   \n",
       "65                                    family  dict   \n",
       "66            family         family.relation   str   \n",
       "67            family             family.name   str   \n",
       "\n",
       "                                                  obj  \n",
       "63  0        NaN\n",
       "1        NaN\n",
       "2        NaN\n",
       "3      ...  \n",
       "64  0                                             ...  \n",
       "65  0                                             ...  \n",
       "66  0        NaN\n",
       "1        NaN\n",
       "2        NaN\n",
       "3      ...  \n",
       "67  0                      NaN\n",
       "1                  ...  "
      ]
     },
     "execution_count": 9,
     "metadata": {},
     "output_type": "execute_result"
    }
   ],
   "source": [
    "df1_in.tail()"
   ]
  },
  {
   "cell_type": "code",
   "execution_count": 10,
   "metadata": {},
   "outputs": [
    {
     "data": {
      "text/html": [
       "<div>\n",
       "<style scoped>\n",
       "    .dataframe tbody tr th:only-of-type {\n",
       "        vertical-align: middle;\n",
       "    }\n",
       "\n",
       "    .dataframe tbody tr th {\n",
       "        vertical-align: top;\n",
       "    }\n",
       "\n",
       "    .dataframe thead th {\n",
       "        text-align: right;\n",
       "    }\n",
       "</style>\n",
       "<table border=\"1\" class=\"dataframe\">\n",
       "  <thead>\n",
       "    <tr style=\"text-align: right;\">\n",
       "      <th></th>\n",
       "      <th>id</th>\n",
       "      <th>name</th>\n",
       "      <th>bio</th>\n",
       "      <th>terms</th>\n",
       "      <th>other_names</th>\n",
       "      <th>leadership_roles</th>\n",
       "      <th>family</th>\n",
       "    </tr>\n",
       "  </thead>\n",
       "  <tbody>\n",
       "    <tr>\n",
       "      <th>11576</th>\n",
       "      <td>{'bioguide': 'M000472', 'thomas': '00773', 'go...</td>\n",
       "      <td>{'first': 'John', 'middle': 'M.', 'last': 'McH...</td>\n",
       "      <td>{'birthday': '1948-09-29', 'gender': 'M'}</td>\n",
       "      <td>[{'type': 'rep', 'start': '1993-01-05', 'end':...</td>\n",
       "      <td>NaN</td>\n",
       "      <td>NaN</td>\n",
       "      <td>NaN</td>\n",
       "    </tr>\n",
       "  </tbody>\n",
       "</table>\n",
       "</div>"
      ],
      "text/plain": [
       "                                                      id  \\\n",
       "11576  {'bioguide': 'M000472', 'thomas': '00773', 'go...   \n",
       "\n",
       "                                                    name  \\\n",
       "11576  {'first': 'John', 'middle': 'M.', 'last': 'McH...   \n",
       "\n",
       "                                             bio  \\\n",
       "11576  {'birthday': '1948-09-29', 'gender': 'M'}   \n",
       "\n",
       "                                                   terms other_names  \\\n",
       "11576  [{'type': 'rep', 'start': '1993-01-05', 'end':...         NaN   \n",
       "\n",
       "      leadership_roles family  \n",
       "11576              NaN    NaN  "
      ]
     },
     "execution_count": 10,
     "metadata": {},
     "output_type": "execute_result"
    }
   ],
   "source": [
    "df1.sample()"
   ]
  },
  {
   "cell_type": "code",
   "execution_count": 11,
   "metadata": {},
   "outputs": [],
   "source": [
    "df_norm = norm.normalize(df1_in, is_mapper=True)"
   ]
  },
  {
   "cell_type": "code",
   "execution_count": 12,
   "metadata": {},
   "outputs": [
    {
     "data": {
      "text/plain": [
       "(275401, 54)"
      ]
     },
     "execution_count": 12,
     "metadata": {},
     "output_type": "execute_result"
    }
   ],
   "source": [
    "df_norm.shape"
   ]
  },
  {
   "cell_type": "code",
   "execution_count": 13,
   "metadata": {},
   "outputs": [
    {
     "data": {
      "text/plain": [
       "Index(['index', 'id.maplight', 'id.opensecrets', 'id.ballotpedia', 'id.lis',\n",
       "       'id.votesmart', 'id.cspan', 'id.thomas', 'id.house_history_alternate',\n",
       "       'id.house_history', 'id.google_entity_id', 'id.wikidata',\n",
       "       'id.wikipedia', 'id.icpsr', 'id.govtrack', 'id.bioguide', 'id.fec',\n",
       "       'id.bioguide_previous', 'name.official_full', 'name.suffix',\n",
       "       'name.nickname', 'name.middle', 'name.last', 'name.first', 'bio.gender',\n",
       "       'bio.birthday', 'terms.rss_url', 'terms.state_rank', 'terms.office',\n",
       "       'terms.contact_form', 'terms.fax', 'terms.phone', 'terms.address',\n",
       "       'terms.url', 'terms.how', 'terms.district', 'terms.party',\n",
       "       'terms.class', 'terms.state', 'terms.end', 'terms.start', 'terms.type',\n",
       "       'terms.party_affiliations.party', 'terms.party_affiliations.end',\n",
       "       'terms.party_affiliations.start', 'other_names.last',\n",
       "       'other_names.middle', 'other_names.end', 'leadership_roles.end',\n",
       "       'leadership_roles.start', 'leadership_roles.chamber',\n",
       "       'leadership_roles.title', 'family.relation', 'family.name'],\n",
       "      dtype='object')"
      ]
     },
     "execution_count": 13,
     "metadata": {},
     "output_type": "execute_result"
    }
   ],
   "source": [
    "df_norm.columns"
   ]
  },
  {
   "cell_type": "markdown",
   "metadata": {},
   "source": [
    "#### Source 2"
   ]
  },
  {
   "cell_type": "code",
   "execution_count": 14,
   "metadata": {},
   "outputs": [
    {
     "data": {
      "text/plain": [
       "(17, 4)"
      ]
     },
     "execution_count": 14,
     "metadata": {},
     "output_type": "execute_result"
    }
   ],
   "source": [
    "df2 = pd.DataFrame(source2)[:1]\n",
    "df2_in = norm.mapper(df2)\n",
    "df2_in.shape"
   ]
  },
  {
   "cell_type": "code",
   "execution_count": 15,
   "metadata": {},
   "outputs": [
    {
     "data": {
      "text/plain": [
       "(1, 4)"
      ]
     },
     "execution_count": 15,
     "metadata": {},
     "output_type": "execute_result"
    }
   ],
   "source": [
    "df2.shape"
   ]
  },
  {
   "cell_type": "code",
   "execution_count": 16,
   "metadata": {},
   "outputs": [
    {
     "data": {
      "text/html": [
       "<div>\n",
       "<style scoped>\n",
       "    .dataframe tbody tr th:only-of-type {\n",
       "        vertical-align: middle;\n",
       "    }\n",
       "\n",
       "    .dataframe tbody tr th {\n",
       "        vertical-align: top;\n",
       "    }\n",
       "\n",
       "    .dataframe thead th {\n",
       "        text-align: right;\n",
       "    }\n",
       "</style>\n",
       "<table border=\"1\" class=\"dataframe\">\n",
       "  <thead>\n",
       "    <tr style=\"text-align: right;\">\n",
       "      <th></th>\n",
       "      <th>parent</th>\n",
       "      <th>child</th>\n",
       "      <th>type</th>\n",
       "      <th>obj</th>\n",
       "    </tr>\n",
       "  </thead>\n",
       "  <tbody>\n",
       "    <tr>\n",
       "      <th>0</th>\n",
       "      <td>.</td>\n",
       "      <td>id</td>\n",
       "      <td>dict</td>\n",
       "      <td>0    {'bioguide': 'W000178', 'govtrack': 41135...</td>\n",
       "    </tr>\n",
       "    <tr>\n",
       "      <th>1</th>\n",
       "      <td>id</td>\n",
       "      <td>id.icpsr_prez</td>\n",
       "      <td>int</td>\n",
       "      <td>0    99869\n",
       "Name: id.icpsr_prez, dtype: object</td>\n",
       "    </tr>\n",
       "    <tr>\n",
       "      <th>2</th>\n",
       "      <td>id</td>\n",
       "      <td>id.govtrack</td>\n",
       "      <td>int</td>\n",
       "      <td>0    411351\n",
       "Name: id.govtrack, dtype: object</td>\n",
       "    </tr>\n",
       "    <tr>\n",
       "      <th>3</th>\n",
       "      <td>id</td>\n",
       "      <td>id.bioguide</td>\n",
       "      <td>str</td>\n",
       "      <td>0    W000178\n",
       "Name: id.bioguide, dtype: object</td>\n",
       "    </tr>\n",
       "    <tr>\n",
       "      <th>4</th>\n",
       "      <td>.</td>\n",
       "      <td>name</td>\n",
       "      <td>dict</td>\n",
       "      <td>0    {'first': 'George', 'last': 'Washington'}...</td>\n",
       "    </tr>\n",
       "  </tbody>\n",
       "</table>\n",
       "</div>"
      ],
      "text/plain": [
       "  parent          child  type  \\\n",
       "0      .             id  dict   \n",
       "1     id  id.icpsr_prez   int   \n",
       "2     id    id.govtrack   int   \n",
       "3     id    id.bioguide   str   \n",
       "4      .           name  dict   \n",
       "\n",
       "                                                 obj  \n",
       "0  0    {'bioguide': 'W000178', 'govtrack': 41135...  \n",
       "1      0    99869\n",
       "Name: id.icpsr_prez, dtype: object  \n",
       "2       0    411351\n",
       "Name: id.govtrack, dtype: object  \n",
       "3      0    W000178\n",
       "Name: id.bioguide, dtype: object  \n",
       "4  0    {'first': 'George', 'last': 'Washington'}...  "
      ]
     },
     "execution_count": 16,
     "metadata": {},
     "output_type": "execute_result"
    }
   ],
   "source": [
    "df2_in.head()"
   ]
  },
  {
   "cell_type": "code",
   "execution_count": 17,
   "metadata": {},
   "outputs": [
    {
     "data": {
      "text/html": [
       "<div>\n",
       "<style scoped>\n",
       "    .dataframe tbody tr th:only-of-type {\n",
       "        vertical-align: middle;\n",
       "    }\n",
       "\n",
       "    .dataframe tbody tr th {\n",
       "        vertical-align: top;\n",
       "    }\n",
       "\n",
       "    .dataframe thead th {\n",
       "        text-align: right;\n",
       "    }\n",
       "</style>\n",
       "<table border=\"1\" class=\"dataframe\">\n",
       "  <thead>\n",
       "    <tr style=\"text-align: right;\">\n",
       "      <th></th>\n",
       "      <th>index</th>\n",
       "      <th>id</th>\n",
       "      <th>name</th>\n",
       "      <th>bio</th>\n",
       "      <th>terms.how</th>\n",
       "      <th>terms.party</th>\n",
       "      <th>terms.end</th>\n",
       "      <th>terms.start</th>\n",
       "      <th>terms.type</th>\n",
       "    </tr>\n",
       "  </thead>\n",
       "  <tbody>\n",
       "    <tr>\n",
       "      <th>0</th>\n",
       "      <td>0</td>\n",
       "      <td>{'bioguide': 'W000178', 'govtrack': 411351, 'i...</td>\n",
       "      <td>{'first': 'George', 'last': 'Washington'}</td>\n",
       "      <td>{'birthday': '1732-02-22', 'gender': 'M'}</td>\n",
       "      <td>election</td>\n",
       "      <td>no party</td>\n",
       "      <td>1793-03-04</td>\n",
       "      <td>1789-04-30</td>\n",
       "      <td>prez</td>\n",
       "    </tr>\n",
       "    <tr>\n",
       "      <th>1</th>\n",
       "      <td>0</td>\n",
       "      <td>{'bioguide': 'W000178', 'govtrack': 411351, 'i...</td>\n",
       "      <td>{'first': 'George', 'last': 'Washington'}</td>\n",
       "      <td>{'birthday': '1732-02-22', 'gender': 'M'}</td>\n",
       "      <td>election</td>\n",
       "      <td>no party</td>\n",
       "      <td>1797-03-04</td>\n",
       "      <td>1793-03-04</td>\n",
       "      <td>prez</td>\n",
       "    </tr>\n",
       "  </tbody>\n",
       "</table>\n",
       "</div>"
      ],
      "text/plain": [
       "   index                                                 id  \\\n",
       "0      0  {'bioguide': 'W000178', 'govtrack': 411351, 'i...   \n",
       "1      0  {'bioguide': 'W000178', 'govtrack': 411351, 'i...   \n",
       "\n",
       "                                        name  \\\n",
       "0  {'first': 'George', 'last': 'Washington'}   \n",
       "1  {'first': 'George', 'last': 'Washington'}   \n",
       "\n",
       "                                         bio terms.how terms.party  \\\n",
       "0  {'birthday': '1732-02-22', 'gender': 'M'}  election    no party   \n",
       "1  {'birthday': '1732-02-22', 'gender': 'M'}  election    no party   \n",
       "\n",
       "    terms.end terms.start terms.type  \n",
       "0  1793-03-04  1789-04-30       prez  \n",
       "1  1797-03-04  1793-03-04       prez  "
      ]
     },
     "execution_count": 17,
     "metadata": {},
     "output_type": "execute_result"
    }
   ],
   "source": [
    "norm.normalize(df2, expand_dicts=False, is_mapper=False)"
   ]
  },
  {
   "cell_type": "markdown",
   "metadata": {},
   "source": [
    "#### Source 3"
   ]
  },
  {
   "cell_type": "code",
   "execution_count": 18,
   "metadata": {},
   "outputs": [
    {
     "data": {
      "text/plain": [
       "(22, 4)"
      ]
     },
     "execution_count": 18,
     "metadata": {},
     "output_type": "execute_result"
    }
   ],
   "source": [
    "df3 = pd.DataFrame(source3)\n",
    "df3_in = norm.mapper(df3)\n",
    "df3_in.shape"
   ]
  },
  {
   "cell_type": "code",
   "execution_count": 19,
   "metadata": {},
   "outputs": [
    {
     "data": {
      "text/plain": [
       "(49, 16)"
      ]
     },
     "execution_count": 19,
     "metadata": {},
     "output_type": "execute_result"
    }
   ],
   "source": [
    "df3.shape"
   ]
  },
  {
   "cell_type": "code",
   "execution_count": 20,
   "metadata": {},
   "outputs": [
    {
     "data": {
      "text/html": [
       "<div>\n",
       "<style scoped>\n",
       "    .dataframe tbody tr th:only-of-type {\n",
       "        vertical-align: middle;\n",
       "    }\n",
       "\n",
       "    .dataframe tbody tr th {\n",
       "        vertical-align: top;\n",
       "    }\n",
       "\n",
       "    .dataframe thead th {\n",
       "        text-align: right;\n",
       "    }\n",
       "</style>\n",
       "<table border=\"1\" class=\"dataframe\">\n",
       "  <thead>\n",
       "    <tr style=\"text-align: right;\">\n",
       "      <th></th>\n",
       "      <th>parent</th>\n",
       "      <th>child</th>\n",
       "      <th>type</th>\n",
       "      <th>obj</th>\n",
       "    </tr>\n",
       "  </thead>\n",
       "  <tbody>\n",
       "    <tr>\n",
       "      <th>0</th>\n",
       "      <td>.</td>\n",
       "      <td>type</td>\n",
       "      <td>str</td>\n",
       "      <td>0      house\n",
       "1      house\n",
       "2      house\n",
       "3      ...</td>\n",
       "    </tr>\n",
       "    <tr>\n",
       "      <th>1</th>\n",
       "      <td>.</td>\n",
       "      <td>name</td>\n",
       "      <td>str</td>\n",
       "      <td>0                        House Committee on Ag...</td>\n",
       "    </tr>\n",
       "    <tr>\n",
       "      <th>2</th>\n",
       "      <td>.</td>\n",
       "      <td>url</td>\n",
       "      <td>str</td>\n",
       "      <td>0                        https://agriculture.h...</td>\n",
       "    </tr>\n",
       "    <tr>\n",
       "      <th>3</th>\n",
       "      <td>.</td>\n",
       "      <td>minority_url</td>\n",
       "      <td>str</td>\n",
       "      <td>0            https://republicans-agriculture.h...</td>\n",
       "    </tr>\n",
       "    <tr>\n",
       "      <th>4</th>\n",
       "      <td>.</td>\n",
       "      <td>thomas_id</td>\n",
       "      <td>str</td>\n",
       "      <td>0     HSAG\n",
       "1     HSAP\n",
       "2     HSAS\n",
       "3     HSBA\n",
       "4 ...</td>\n",
       "    </tr>\n",
       "  </tbody>\n",
       "</table>\n",
       "</div>"
      ],
      "text/plain": [
       "  parent         child type                                                obj\n",
       "0      .          type  str  0      house\n",
       "1      house\n",
       "2      house\n",
       "3      ...\n",
       "1      .          name  str  0                        House Committee on Ag...\n",
       "2      .           url  str  0                        https://agriculture.h...\n",
       "3      .  minority_url  str  0            https://republicans-agriculture.h...\n",
       "4      .     thomas_id  str  0     HSAG\n",
       "1     HSAP\n",
       "2     HSAS\n",
       "3     HSBA\n",
       "4 ..."
      ]
     },
     "execution_count": 20,
     "metadata": {},
     "output_type": "execute_result"
    }
   ],
   "source": [
    "df3_in.head()"
   ]
  },
  {
   "cell_type": "code",
   "execution_count": 21,
   "metadata": {},
   "outputs": [
    {
     "data": {
      "text/html": [
       "<div>\n",
       "<style scoped>\n",
       "    .dataframe tbody tr th:only-of-type {\n",
       "        vertical-align: middle;\n",
       "    }\n",
       "\n",
       "    .dataframe tbody tr th {\n",
       "        vertical-align: top;\n",
       "    }\n",
       "\n",
       "    .dataframe thead th {\n",
       "        text-align: right;\n",
       "    }\n",
       "</style>\n",
       "<table border=\"1\" class=\"dataframe\">\n",
       "  <thead>\n",
       "    <tr style=\"text-align: right;\">\n",
       "      <th></th>\n",
       "      <th>index</th>\n",
       "      <th>parent</th>\n",
       "      <th>child</th>\n",
       "      <th>type</th>\n",
       "      <th>obj</th>\n",
       "    </tr>\n",
       "  </thead>\n",
       "  <tbody>\n",
       "    <tr>\n",
       "      <th>0</th>\n",
       "      <td>0</td>\n",
       "      <td>.</td>\n",
       "      <td>type</td>\n",
       "      <td>str</td>\n",
       "      <td>0      house\n",
       "1      house\n",
       "2      house\n",
       "3      ...</td>\n",
       "    </tr>\n",
       "    <tr>\n",
       "      <th>1</th>\n",
       "      <td>1</td>\n",
       "      <td>.</td>\n",
       "      <td>name</td>\n",
       "      <td>str</td>\n",
       "      <td>0                        House Committee on Ag...</td>\n",
       "    </tr>\n",
       "    <tr>\n",
       "      <th>2</th>\n",
       "      <td>2</td>\n",
       "      <td>.</td>\n",
       "      <td>url</td>\n",
       "      <td>str</td>\n",
       "      <td>0                        https://agriculture.h...</td>\n",
       "    </tr>\n",
       "    <tr>\n",
       "      <th>3</th>\n",
       "      <td>3</td>\n",
       "      <td>.</td>\n",
       "      <td>minority_url</td>\n",
       "      <td>str</td>\n",
       "      <td>0            https://republicans-agriculture.h...</td>\n",
       "    </tr>\n",
       "    <tr>\n",
       "      <th>4</th>\n",
       "      <td>4</td>\n",
       "      <td>.</td>\n",
       "      <td>thomas_id</td>\n",
       "      <td>str</td>\n",
       "      <td>0     HSAG\n",
       "1     HSAP\n",
       "2     HSAS\n",
       "3     HSBA\n",
       "4 ...</td>\n",
       "    </tr>\n",
       "    <tr>\n",
       "      <th>5</th>\n",
       "      <td>5</td>\n",
       "      <td>.</td>\n",
       "      <td>house_committee_id</td>\n",
       "      <td>str</td>\n",
       "      <td>0      AG\n",
       "1      AP\n",
       "2      AS\n",
       "3      BA\n",
       "4     ...</td>\n",
       "    </tr>\n",
       "    <tr>\n",
       "      <th>6</th>\n",
       "      <td>6</td>\n",
       "      <td>.</td>\n",
       "      <td>subcommittees</td>\n",
       "      <td>list</td>\n",
       "      <td>0     [{'name': 'Conservation and Forestry', '...</td>\n",
       "    </tr>\n",
       "    <tr>\n",
       "      <th>7</th>\n",
       "      <td>7</td>\n",
       "      <td></td>\n",
       "      <td>subcommittees</td>\n",
       "      <td>dict</td>\n",
       "      <td>0     {'name': 'Conservation and Forestry', 't...</td>\n",
       "    </tr>\n",
       "    <tr>\n",
       "      <th>8</th>\n",
       "      <td>8</td>\n",
       "      <td>subcommittees</td>\n",
       "      <td>subcommittees.wikipedia</td>\n",
       "      <td>str</td>\n",
       "      <td>0                                             ...</td>\n",
       "    </tr>\n",
       "    <tr>\n",
       "      <th>9</th>\n",
       "      <td>9</td>\n",
       "      <td>subcommittees</td>\n",
       "      <td>subcommittees.phone</td>\n",
       "      <td>str</td>\n",
       "      <td>0     (202) 225-2171\n",
       "0     (202) 225-2171\n",
       "0   ...</td>\n",
       "    </tr>\n",
       "    <tr>\n",
       "      <th>10</th>\n",
       "      <td>10</td>\n",
       "      <td>subcommittees</td>\n",
       "      <td>subcommittees.address</td>\n",
       "      <td>str</td>\n",
       "      <td>0     1301 LHOB; Washington, DC 20515\n",
       "0     13...</td>\n",
       "    </tr>\n",
       "    <tr>\n",
       "      <th>11</th>\n",
       "      <td>11</td>\n",
       "      <td>subcommittees</td>\n",
       "      <td>subcommittees.thomas_id</td>\n",
       "      <td>str</td>\n",
       "      <td>0      15\n",
       "0      22\n",
       "0      16\n",
       "0      29\n",
       "0     ...</td>\n",
       "    </tr>\n",
       "    <tr>\n",
       "      <th>12</th>\n",
       "      <td>12</td>\n",
       "      <td>subcommittees</td>\n",
       "      <td>subcommittees.name</td>\n",
       "      <td>str</td>\n",
       "      <td>0                        Conservation and Fore...</td>\n",
       "    </tr>\n",
       "    <tr>\n",
       "      <th>13</th>\n",
       "      <td>13</td>\n",
       "      <td>.</td>\n",
       "      <td>address</td>\n",
       "      <td>str</td>\n",
       "      <td>0          1301 LHOB; Washington, DC 20515-600...</td>\n",
       "    </tr>\n",
       "    <tr>\n",
       "      <th>14</th>\n",
       "      <td>14</td>\n",
       "      <td>.</td>\n",
       "      <td>phone</td>\n",
       "      <td>str</td>\n",
       "      <td>0     (202) 225-2171\n",
       "1     (202) 225-2771\n",
       "2   ...</td>\n",
       "    </tr>\n",
       "    <tr>\n",
       "      <th>15</th>\n",
       "      <td>15</td>\n",
       "      <td>.</td>\n",
       "      <td>rss_url</td>\n",
       "      <td>str</td>\n",
       "      <td>0      https://agriculture.house.gov/Rss.aspx?...</td>\n",
       "    </tr>\n",
       "    <tr>\n",
       "      <th>16</th>\n",
       "      <td>16</td>\n",
       "      <td>.</td>\n",
       "      <td>jurisdiction</td>\n",
       "      <td>str</td>\n",
       "      <td>0     The House Committee on Agriculture has l...</td>\n",
       "    </tr>\n",
       "    <tr>\n",
       "      <th>17</th>\n",
       "      <td>17</td>\n",
       "      <td>.</td>\n",
       "      <td>jurisdiction_source</td>\n",
       "      <td>str</td>\n",
       "      <td>0                                             ...</td>\n",
       "    </tr>\n",
       "    <tr>\n",
       "      <th>18</th>\n",
       "      <td>18</td>\n",
       "      <td>.</td>\n",
       "      <td>minority_rss_url</td>\n",
       "      <td>str</td>\n",
       "      <td>0                                             ...</td>\n",
       "    </tr>\n",
       "    <tr>\n",
       "      <th>19</th>\n",
       "      <td>19</td>\n",
       "      <td>.</td>\n",
       "      <td>thomas_id_comment</td>\n",
       "      <td>str</td>\n",
       "      <td>0                                             ...</td>\n",
       "    </tr>\n",
       "    <tr>\n",
       "      <th>20</th>\n",
       "      <td>20</td>\n",
       "      <td>.</td>\n",
       "      <td>senate_committee_id</td>\n",
       "      <td>str</td>\n",
       "      <td>0      NaN\n",
       "1      NaN\n",
       "2      NaN\n",
       "3      NaN\n",
       "4 ...</td>\n",
       "    </tr>\n",
       "    <tr>\n",
       "      <th>21</th>\n",
       "      <td>21</td>\n",
       "      <td>.</td>\n",
       "      <td>wikipedia</td>\n",
       "      <td>str</td>\n",
       "      <td>0                                             ...</td>\n",
       "    </tr>\n",
       "  </tbody>\n",
       "</table>\n",
       "</div>"
      ],
      "text/plain": [
       "    index         parent                    child  type  \\\n",
       "0       0              .                     type   str   \n",
       "1       1              .                     name   str   \n",
       "2       2              .                      url   str   \n",
       "3       3              .             minority_url   str   \n",
       "4       4              .                thomas_id   str   \n",
       "5       5              .       house_committee_id   str   \n",
       "6       6              .            subcommittees  list   \n",
       "7       7                           subcommittees  dict   \n",
       "8       8  subcommittees  subcommittees.wikipedia   str   \n",
       "9       9  subcommittees      subcommittees.phone   str   \n",
       "10     10  subcommittees    subcommittees.address   str   \n",
       "11     11  subcommittees  subcommittees.thomas_id   str   \n",
       "12     12  subcommittees       subcommittees.name   str   \n",
       "13     13              .                  address   str   \n",
       "14     14              .                    phone   str   \n",
       "15     15              .                  rss_url   str   \n",
       "16     16              .             jurisdiction   str   \n",
       "17     17              .      jurisdiction_source   str   \n",
       "18     18              .         minority_rss_url   str   \n",
       "19     19              .        thomas_id_comment   str   \n",
       "20     20              .      senate_committee_id   str   \n",
       "21     21              .                wikipedia   str   \n",
       "\n",
       "                                                  obj  \n",
       "0   0      house\n",
       "1      house\n",
       "2      house\n",
       "3      ...  \n",
       "1   0                        House Committee on Ag...  \n",
       "2   0                        https://agriculture.h...  \n",
       "3   0            https://republicans-agriculture.h...  \n",
       "4   0     HSAG\n",
       "1     HSAP\n",
       "2     HSAS\n",
       "3     HSBA\n",
       "4 ...  \n",
       "5   0      AG\n",
       "1      AP\n",
       "2      AS\n",
       "3      BA\n",
       "4     ...  \n",
       "6   0     [{'name': 'Conservation and Forestry', '...  \n",
       "7   0     {'name': 'Conservation and Forestry', 't...  \n",
       "8   0                                             ...  \n",
       "9   0     (202) 225-2171\n",
       "0     (202) 225-2171\n",
       "0   ...  \n",
       "10  0     1301 LHOB; Washington, DC 20515\n",
       "0     13...  \n",
       "11  0      15\n",
       "0      22\n",
       "0      16\n",
       "0      29\n",
       "0     ...  \n",
       "12  0                        Conservation and Fore...  \n",
       "13  0          1301 LHOB; Washington, DC 20515-600...  \n",
       "14  0     (202) 225-2171\n",
       "1     (202) 225-2771\n",
       "2   ...  \n",
       "15  0      https://agriculture.house.gov/Rss.aspx?...  \n",
       "16  0     The House Committee on Agriculture has l...  \n",
       "17  0                                             ...  \n",
       "18  0                                             ...  \n",
       "19  0                                             ...  \n",
       "20  0      NaN\n",
       "1      NaN\n",
       "2      NaN\n",
       "3      NaN\n",
       "4 ...  \n",
       "21  0                                             ...  "
      ]
     },
     "execution_count": 21,
     "metadata": {},
     "output_type": "execute_result"
    }
   ],
   "source": [
    "norm.normalize(df3_in)"
   ]
  }
 ],
 "metadata": {
  "kernelspec": {
   "display_name": "Flat Table",
   "language": "python",
   "name": "flat-table"
  },
  "language_info": {
   "codemirror_mode": {
    "name": "ipython",
    "version": 3
   },
   "file_extension": ".py",
   "mimetype": "text/x-python",
   "name": "python",
   "nbconvert_exporter": "python",
   "pygments_lexer": "ipython3",
   "version": "3.8.3"
  }
 },
 "nbformat": 4,
 "nbformat_minor": 4
}
